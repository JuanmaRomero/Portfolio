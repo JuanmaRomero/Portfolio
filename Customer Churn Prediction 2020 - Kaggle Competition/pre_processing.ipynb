{
  "cells": [
    {
      "cell_type": "markdown",
      "metadata": {
        "id": "LO6IsJHoSubG"
      },
      "source": [
        "## File descriptions\n",
        "\n",
        "train.csv: Contains 4250 lines with 20 columns. 3652 samples (85.93%) belong to class churn=no and 598 samples (14.07%) belong to class churn=yes\n",
        "\n",
        "test.csv: Contains 750 lines with 20 columns: the index of each sample and the 19 features (missing the target variable \"churn\").\n",
        "\n",
        "## Data fields\n",
        "\n",
        "* state, string.\n",
        " \n",
        "    2-letter code of the US state of customer residence\n",
        "* account_length, numerical. \n",
        "\n",
        "    Number of months the customer has been with the current telco provider\n",
        "* area_code, string=\n",
        "\n",
        "    \"area_code_AAA\" where AAA = 3 digit area code.\n",
        "* international_plan, (yes/no). \n",
        "\n",
        "    The customer has international plan.\n",
        "* voice_mail_plan, (yes/no). \n",
        "\n",
        "    The customer has voice mail plan.\n",
        "* number_vmail_messages, numerical.\n",
        "\n",
        "    Number of voice-mail messages.\n",
        "* total_day_minutes, numerical. \n",
        "\n",
        "    Total minutes of day calls.\n",
        "* total_day_calls, numerical. \n",
        "\n",
        "    Total number of day calls.\n",
        "* total_day_charge, numerical. \n",
        "\n",
        "    Total charge of day calls.\n",
        "* total_eve_minutes, numerical. \n",
        "\n",
        "    Total minutes of evening calls.\n",
        "* total_eve_calls, numerical. \n",
        "\n",
        "    Total number of evening calls.\n",
        "* total_eve_charge, numerical. \n",
        "\n",
        "    Total charge of evening calls.\n",
        "* total_night_minutes, numerical. \n",
        "\n",
        "    Total minutes of night calls.\n",
        "* total_night_calls, numerical. \n",
        "\n",
        "    Total number of night calls.\n",
        "* total_night_charge, numerical.\n",
        "\n",
        "    Total charge of night calls.\n",
        "* total_intl_minutes, numerical. \n",
        "\n",
        "    Total minutes of international calls.\n",
        "* total_intl_calls, numerical. \n",
        "\n",
        "    Total number of international calls.\n",
        "* total_intl_charge, numerical. \n",
        "\n",
        "    Total charge of international calls\n",
        "* number_customer_service_calls, numerical. \n",
        "\n",
        "    Number of calls to customer service\n",
        "* churn, (yes/no). \n",
        "\n",
        "    Customer churn - target variable."
      ]
    },
    {
      "cell_type": "code",
      "execution_count": 63,
      "metadata": {
        "id": "zhbG06g0SubL"
      },
      "outputs": [],
      "source": [
        "import numpy as np\n",
        "import pandas as pd\n",
        "\n",
        "import seaborn as sns\n",
        "import matplotlib.pyplot as plt\n",
        "\n",
        "from xgboost import XGBClassifier\n",
        "import lightgbm as lgb\n",
        "\n",
        "from sklearn.model_selection import ShuffleSplit\n",
        "from sklearn.model_selection import GridSearchCV\n",
        "\n",
        "from sklearn.preprocessing import StandardScaler\n",
        "from imblearn.over_sampling import RandomOverSampler"
      ]
    },
    {
      "cell_type": "code",
      "execution_count": 3,
      "metadata": {
        "id": "EK0OteIZSubN"
      },
      "outputs": [],
      "source": [
        "df = pd.read_csv(\"train.csv\")\n",
        "df_test = pd.read_csv(\"test.csv\")"
      ]
    },
    {
      "cell_type": "markdown",
      "metadata": {},
      "source": [
        "## Descriptive Analytics"
      ]
    },
    {
      "cell_type": "code",
      "execution_count": 53,
      "metadata": {
        "colab": {
          "base_uri": "https://localhost:8080/"
        },
        "id": "xOOA_A7CSubP",
        "outputId": "bb626c10-e156-4aed-f178-4f2dccd6b3d0"
      },
      "outputs": [
        {
          "data": {
            "text/plain": [
              "[Text(0.5, 0, 'churn'),\n",
              " Text(0, 0.5, 'nº observatios'),\n",
              " Text(0.5, 1.0, 'Unbalanced classes')]"
            ]
          },
          "execution_count": 53,
          "metadata": {},
          "output_type": "execute_result"
        },
        {
          "data": {
            "image/png": "[encoded data removed]",
            "text/plain": [
              "<Figure size 360x360 with 1 Axes>"
            ]
          },
          "metadata": {},
          "output_type": "display_data"
        }
      ],
      "source": [
        "# Unbalance classes\n",
        "dtp = df.groupby('churn').count()\n",
        "\n",
        "sns.set(rc={'figure.figsize':(5 , 5)})\n",
        "ax = sns.barplot(x= dtp.index,\n",
        "              y= [dtp.iloc[0].max(), dtp.iloc[1].max()])\n",
        "ax.set(xlabel='churn',\n",
        "       ylabel='nº observations',\n",
        "       title = 'Unbalanced classes')"
      ]
    },
    {
      "cell_type": "code",
      "execution_count": 69,
      "metadata": {},
      "outputs": [
        {
          "data": {
            "text/plain": [
              "churn\n",
              "no     1.441676\n",
              "yes    2.275920\n",
              "dtype: float64"
            ]
          },
          "execution_count": 69,
          "metadata": {},
          "output_type": "execute_result"
        }
      ],
      "source": [
        "df.groupby('churn')['number_customer_service_calls'].sum()/df['churn'].value_counts()"
      ]
    },
    {
      "cell_type": "code",
      "execution_count": 75,
      "metadata": {
        "colab": {
          "base_uri": "https://localhost:8080/"
        },
        "id": "n-E-jLBySubQ",
        "outputId": "af9f1168-b3ae-4dca-ca92-aa1b467c69cd"
      },
      "outputs": [
        {
          "data": {
            "text/plain": [
              "[Text(0.5, 0, 'churn'),\n",
              " Text(0, 0.5, 'nº observatios'),\n",
              " Text(0.5, 1.0, '% customer service calls')]"
            ]
          },
          "execution_count": 75,
          "metadata": {},
          "output_type": "execute_result"
        },
        {
          "data": {
            "image/png": "[encoded data removed]",
            "text/plain": [
              "<Figure size 360x360 with 1 Axes>"
            ]
          },
          "metadata": {},
          "output_type": "display_data"
        }
      ],
      "source": [
        "# Customers who churn have made more customer service calls\n",
        "dtp = df.groupby('churn')['number_customer_service_calls'].sum()/df['churn'].value_counts()\n",
        "\n",
        "sns.set(rc={'figure.figsize':(5 , 5)})\n",
        "ax = sns.barplot(x= dtp.index,\n",
        "            y= dtp.values)\n",
        "ax.set(xlabel='churn',\n",
        "       ylabel='nº observations',\n",
        "       title = '% customer service calls')\n"
      ]
    },
    {
      "cell_type": "code",
      "execution_count": 20,
      "metadata": {
        "colab": {
          "base_uri": "https://localhost:8080/"
        },
        "id": "xftPIzZLSubQ",
        "outputId": "f08a5c22-74b2-4770-dc52-a87a1c9197d6"
      },
      "outputs": [
        {
          "name": "stdout",
          "output_type": "stream",
          "text": [
            "<class 'pandas.core.frame.DataFrame'>\n",
            "RangeIndex: 4250 entries, 0 to 4249\n",
            "Data columns (total 20 columns):\n",
            " #   Column                         Non-Null Count  Dtype  \n",
            "---  ------                         --------------  -----  \n",
            " 0   state                          4250 non-null   object \n",
            " 1   account_length                 4250 non-null   int64  \n",
            " 2   area_code                      4250 non-null   object \n",
            " 3   international_plan             4250 non-null   object \n",
            " 4   voice_mail_plan                4250 non-null   object \n",
            " 5   number_vmail_messages          4250 non-null   int64  \n",
            " 6   total_day_minutes              4250 non-null   float64\n",
            " 7   total_day_calls                4250 non-null   int64  \n",
            " 8   total_day_charge               4250 non-null   float64\n",
            " 9   total_eve_minutes              4250 non-null   float64\n",
            " 10  total_eve_calls                4250 non-null   int64  \n",
            " 11  total_eve_charge               4250 non-null   float64\n",
            " 12  total_night_minutes            4250 non-null   float64\n",
            " 13  total_night_calls              4250 non-null   int64  \n",
            " 14  total_night_charge             4250 non-null   float64\n",
            " 15  total_intl_minutes             4250 non-null   float64\n",
            " 16  total_intl_calls               4250 non-null   int64  \n",
            " 17  total_intl_charge              4250 non-null   float64\n",
            " 18  number_customer_service_calls  4250 non-null   int64  \n",
            " 19  churn                          4250 non-null   object \n",
            "dtypes: float64(8), int64(7), object(5)\n",
            "memory usage: 664.2+ KB\n"
          ]
        }
      ],
      "source": [
        "# No missing data\n",
        "df.info()"
      ]
    },
    {
      "cell_type": "markdown",
      "metadata": {
        "id": "a4f05S4CSubR"
      },
      "source": [
        "## Pre Process"
      ]
    },
    {
      "cell_type": "code",
      "execution_count": 21,
      "metadata": {
        "id": "4a9BDgAhSubR"
      },
      "outputs": [],
      "source": [
        "def pre_process(df):\n",
        "    df['international_plan'] = df['international_plan'].map(dict(yes=1, no=0))\n",
        "    df['area_code'] = df['area_code'].apply(lambda x: int(x.split(\"_\")[2]))\n",
        "    df['voice_mail_plan'] = df['voice_mail_plan'].map(dict(yes=1, no=0))\n",
        "\n",
        "    df['state'] = df['state'].factorize()[0]\n",
        "\n",
        "    return df\n"
      ]
    },
    {
      "cell_type": "markdown",
      "metadata": {
        "id": "D68CorK2SubS"
      },
      "source": [
        "## Modelling\n",
        "\n"
      ]
    },
    {
      "cell_type": "code",
      "execution_count": null,
      "metadata": {
        "id": "EA5jcP2FU9P9"
      },
      "outputs": [],
      "source": [
        "X_train = pre_process(df.drop(columns= 'churn'))\n",
        "y_train = df['churn'].map(dict(yes=1, no=0))\n",
        "\n",
        "X_test = pre_process(df_test)\n",
        "\n",
        "mc = ShuffleSplit(n_splits= 10, test_size=.2, random_state=42)"
      ]
    },
    {
      "cell_type": "markdown",
      "metadata": {
        "id": "8Nu_1RQYSubT"
      },
      "source": [
        "### XGBOOST\n",
        "\n",
        "Podria mejorar mucho con down o up sampling. "
      ]
    },
    {
      "cell_type": "code",
      "execution_count": 23,
      "metadata": {
        "colab": {
          "base_uri": "https://localhost:8080/"
        },
        "id": "81YSxS1PSubT",
        "outputId": "065d7739-33c2-441f-c305-f4c835d84e4d"
      },
      "outputs": [
        {
          "name": "stdout",
          "output_type": "stream",
          "text": [
            "Fitting 10 folds for each of 24 candidates, totalling 240 fits\n"
          ]
        },
        {
          "data": {
            "text/plain": [
              "GridSearchCV(cv=ShuffleSplit(n_splits=10, random_state=42, test_size=0.2, train_size=None),\n",
              "             estimator=XGBClassifier(), n_jobs=-1,\n",
              "             param_grid={'gamma': [0, 1, 4], 'max_depth': [3, 5],\n",
              "                         'min_child_weight': [3, 6], 'subsample': [0.5, 1.0]},\n",
              "             scoring='balanced_accuracy', verbose=3)"
            ]
          },
          "execution_count": 23,
          "metadata": {},
          "output_type": "execute_result"
        }
      ],
      "source": [
        "# Montecarlo cross-validation\n",
        "param_grid = {\n",
        "        'min_child_weight': [3, 6],\n",
        "        'gamma': [0, 1, 4],\n",
        "        'subsample': [0.5, 1.0],\n",
        "        'max_depth': [3, 5]\n",
        "        }\n",
        "\n",
        "\n",
        "xgbc = XGBClassifier(objective = \"binary:logistic\")\n",
        "\n",
        "grid_search = GridSearchCV(xgbc, param_grid, cv= mc, scoring='balanced_accuracy', verbose = 3, n_jobs= -1)\n",
        "\n",
        "grid_search.fit(X_train, y_train)"
      ]
    },
    {
      "cell_type": "code",
      "execution_count": 24,
      "metadata": {
        "colab": {
          "base_uri": "https://localhost:8080/"
        },
        "id": "65RtzrhnSubU",
        "outputId": "65eb2a7f-7ded-456d-baeb-ff457e4d9abb"
      },
      "outputs": [
        {
          "name": "stdout",
          "output_type": "stream",
          "text": [
            "best params:  {'gamma': 0, 'max_depth': 5, 'min_child_weight': 3, 'subsample': 1.0}\n",
            "best score:  0.8827557683504219\n"
          ]
        }
      ],
      "source": [
        "print(\"best params: \", grid_search.best_params_)\n",
        "print(\"best score: \", grid_search.best_score_)"
      ]
    },
    {
      "cell_type": "markdown",
      "metadata": {
        "id": "dmZ5y-xzSubU"
      },
      "source": [
        "### Lightgbm"
      ]
    },
    {
      "cell_type": "code",
      "execution_count": 26,
      "metadata": {
        "colab": {
          "base_uri": "https://localhost:8080/"
        },
        "id": "S2-rB25CSubU",
        "outputId": "50d3245d-2836-4f0a-f343-59ac1e927a1d"
      },
      "outputs": [
        {
          "name": "stdout",
          "output_type": "stream",
          "text": [
            "Fitting 10 folds for each of 72 candidates, totalling 720 fits\n"
          ]
        },
        {
          "data": {
            "text/plain": [
              "GridSearchCV(cv=ShuffleSplit(n_splits=10, random_state=42, test_size=0.2, train_size=None),\n",
              "             estimator=LGBMClassifier(is_unbalance=True, objective='binary'),\n",
              "             n_jobs=-1,\n",
              "             param_grid={'lambda_l1': [0, 1, 1.5], 'lambda_l2': [0, 1],\n",
              "                         'min_data_in_leaf': [30, 50, 100],\n",
              "                         'num_leaves': [31, 127], 'reg_alpha': [0.1, 0.5]},\n",
              "             scoring='balanced_accuracy', verbose=3)"
            ]
          },
          "execution_count": 26,
          "metadata": {},
          "output_type": "execute_result"
        }
      ],
      "source": [
        "# Montecarlo cross-validation\n",
        "mc = ShuffleSplit(n_splits= 10, test_size=.2, random_state=42)\n",
        "\n",
        "\n",
        "param_grid = {\n",
        "        'num_leaves': [31, 127],\n",
        "        'reg_alpha': [0.1, 0.5],\n",
        "        'min_data_in_leaf': [30, 50, 100],\n",
        "        'lambda_l1': [0, 1, 1.5],\n",
        "        'lambda_l2': [0, 1]\n",
        "        }\n",
        "\n",
        "\n",
        "lgbmc = lgb.LGBMClassifier(is_unbalance=True, objective = \"binary\")\n",
        "\n",
        "grid_search = GridSearchCV(lgbmc, param_grid, cv= mc, scoring='balanced_accuracy', verbose = 3, n_jobs= -1)\n",
        "\n",
        "grid_search.fit(X_train, y_train)"
      ]
    },
    {
      "cell_type": "code",
      "execution_count": 27,
      "metadata": {
        "colab": {
          "base_uri": "https://localhost:8080/"
        },
        "id": "WisHGI7GSubU",
        "outputId": "0e2b0cf5-76e7-469d-f5b2-b1ef9466888c"
      },
      "outputs": [
        {
          "name": "stdout",
          "output_type": "stream",
          "text": [
            "best params:  {'lambda_l1': 1.5, 'lambda_l2': 1, 'min_data_in_leaf': 50, 'num_leaves': 127, 'reg_alpha': 0.1}\n",
            "best score:  0.9029769990693917\n"
          ]
        }
      ],
      "source": [
        "print(\"best params: \", grid_search.best_params_)\n",
        "print(\"best score: \", grid_search.best_score_)"
      ]
    },
    {
      "cell_type": "markdown",
      "metadata": {
        "id": "s0mJb7JFV9Zh"
      },
      "source": [
        "## Predictions\n",
        "\n",
        "Competition: https://www.kaggle.com/competitions/customer-churn-prediction-2020/overview\n",
        "\n",
        "Score: 0.94222"
      ]
    },
    {
      "cell_type": "code",
      "execution_count": 31,
      "metadata": {
        "id": "i6V5OeZyWbAU"
      },
      "outputs": [],
      "source": [
        "lgbmc = lgb.LGBMClassifier(is_unbalance=True, objective = \"binary\",\n",
        "                           lambda_l1 = 1.5, lambda_l2 = 1, min_data_in_leaf = 50,\n",
        "                           num_leaves = 127, reg_alpha = 0.1)\n",
        "\n",
        "lgbmc.fit(X_train, y_train)\n",
        "\n",
        "df_test['churn'] = lgbmc.predict(X_test.drop(columns = 'id'))"
      ]
    },
    {
      "cell_type": "code",
      "execution_count": 32,
      "metadata": {
        "id": "y46qmgW2V881"
      },
      "outputs": [],
      "source": [
        "df_test['churn'] = df_test['churn'].apply(lambda x: 'yes' if x == 1 else 'no')"
      ]
    },
    {
      "cell_type": "code",
      "execution_count": 35,
      "metadata": {
        "id": "mzS7dQ9dXbOD"
      },
      "outputs": [],
      "source": [
        "df_test[['id', 'churn']].to_csv('submission.csv', index=False)"
      ]
    }
  ],
  "metadata": {
    "colab": {
      "collapsed_sections": [],
      "name": "pre-processing.ipynb",
      "provenance": []
    },
    "interpreter": {
      "hash": "730708f89379052427c673a2aaed2537079f2fc0f685a661ef80a0b457bd7ce6"
    },
    "kernelspec": {
      "display_name": "Python 3.8.12 ('base')",
      "language": "python",
      "name": "python3"
    },
    "language_info": {
      "codemirror_mode": {
        "name": "ipython",
        "version": 3
      },
      "file_extension": ".py",
      "mimetype": "text/x-python",
      "name": "python",
      "nbconvert_exporter": "python",
      "pygments_lexer": "ipython3",
      "version": "3.8.12"
    },
    "orig_nbformat": 4
  },
  "nbformat": 4,
  "nbformat_minor": 0
}
